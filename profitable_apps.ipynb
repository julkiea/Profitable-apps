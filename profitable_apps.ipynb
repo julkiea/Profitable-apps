{
 "cells": [
  {
   "cell_type": "markdown",
   "metadata": {},
   "source": [
    "# Profitable App Profiles for the App Store and Google Play Markets"
   ]
  },
  {
   "cell_type": "markdown",
   "metadata": {},
   "source": [
    "The aim of the project is to help developers understand what type of apps are likely to attract more users on Google Play and the App Store.  \n",
    "  \n",
    "We build apps that are free to download and install, and our main source of revenue consists of in-app ads. This means that our revenue for any given app is mostly influenced by the number of users that use our app.  \n",
    "  \n",
    "Because of that we want to analyze data to help our developers understand what kinds of apps are likely to attract more users."
   ]
  },
  {
   "cell_type": "markdown",
   "metadata": {},
   "source": [
    "## Opening the datasets"
   ]
  },
  {
   "cell_type": "code",
   "execution_count": 1,
   "metadata": {},
   "outputs": [],
   "source": [
    "import csv"
   ]
  },
  {
   "cell_type": "code",
   "execution_count": 2,
   "metadata": {},
   "outputs": [],
   "source": [
    "apple_store_data = open('AppleStore.csv', 'r')\n",
    "read_apple_store_data = list(csv.reader(apple_store_data))\n",
    "apple_store = read_apple_store_data[1:]\n",
    "apple_store_header = read_apple_store_data[0]"
   ]
  },
  {
   "cell_type": "code",
   "execution_count": 3,
   "metadata": {},
   "outputs": [],
   "source": [
    "google_play_data = open('googleplaystore.csv', 'r')\n",
    "read_google_play_data = list(csv.reader(google_play_data))\n",
    "google_play = read_google_play_data[1:]\n",
    "google_play_header = read_google_play_data[0]"
   ]
  },
  {
   "cell_type": "markdown",
   "metadata": {},
   "source": [
    "## Exploring datasets "
   ]
  },
  {
   "cell_type": "markdown",
   "metadata": {},
   "source": [
    "To make it easier to explore datasets I will use the **explore_data()** function that displays a specified slice of the dataset and prints the dataset's dimensions."
   ]
  },
  {
   "cell_type": "code",
   "execution_count": 4,
   "metadata": {},
   "outputs": [],
   "source": [
    "def explore_data(dataset, start, end, rows_and_columns=False):\n",
    "    \n",
    "    \"\"\"\n",
    "    Displays a specified slice of the dataset and optionally prints the dataset's dimensions.\n",
    "    \n",
    "        Parameters:\n",
    "            dataset (list of lists): The dataset to be explored, where each inner list represents a row.\n",
    "            start (int): Starting index of the slice.\n",
    "            end (int): Ending index of the slice (non-inclusive).\n",
    "            rows_and_columns (bool, optional): If True, prints the number of rows and columns in the dataset.\n",
    "\n",
    "        Returns:\n",
    "            None\n",
    "            \n",
    "    \"\"\"\n",
    "        \n",
    "    dataset_slice = dataset[start:end] \n",
    "    \n",
    "    for row in dataset_slice:\n",
    "        print(row)\n",
    "        print('\\n') \n",
    "\n",
    "    if rows_and_columns:\n",
    "        print('Number of rows:', len(dataset))\n",
    "        print('Number of columns:', len(dataset[0]))"
   ]
  },
  {
   "cell_type": "markdown",
   "metadata": {},
   "source": [
    "### Apple Store Data"
   ]
  },
  {
   "cell_type": "markdown",
   "metadata": {},
   "source": [
    "The documentation of the Apple Store Data can be found here: [Apple Store Dataset](https://www.kaggle.com/datasets/ramamet4/app-store-apple-data-set-10k-apps)  \n",
    "The dataset can be downloaded directly from [this link](https://dq-content.s3.amazonaws.com/350/AppleStore.csv)"
   ]
  },
  {
   "cell_type": "code",
   "execution_count": 5,
   "metadata": {},
   "outputs": [
    {
     "name": "stdout",
     "output_type": "stream",
     "text": [
      "['id', 'track_name', 'size_bytes', 'currency', 'price', 'rating_count_tot', 'rating_count_ver', 'user_rating', 'user_rating_ver', 'ver', 'cont_rating', 'prime_genre', 'sup_devices.num', 'ipadSc_urls.num', 'lang.num', 'vpp_lic']\n",
      "\n",
      "\n",
      "['284882215', 'Facebook', '389879808', 'USD', '0.0', '2974676', '212', '3.5', '3.5', '95.0', '4+', 'Social Networking', '37', '1', '29', '1']\n",
      "\n",
      "\n",
      "['389801252', 'Instagram', '113954816', 'USD', '0.0', '2161558', '1289', '4.5', '4.0', '10.23', '12+', 'Photo & Video', '37', '0', '29', '1']\n",
      "\n",
      "\n",
      "['529479190', 'Clash of Clans', '116476928', 'USD', '0.0', '2130805', '579', '4.5', '4.5', '9.24.12', '9+', 'Games', '38', '5', '18', '1']\n",
      "\n",
      "\n",
      "['420009108', 'Temple Run', '65921024', 'USD', '0.0', '1724546', '3842', '4.5', '4.0', '1.6.2', '9+', 'Games', '40', '5', '1', '1']\n",
      "\n",
      "\n",
      "['284035177', 'Pandora - Music & Radio', '130242560', 'USD', '0.0', '1126879', '3594', '4.0', '4.5', '8.4.1', '12+', 'Music', '37', '4', '1', '1']\n",
      "\n",
      "\n",
      "Number of rows: 7197\n",
      "Number of columns: 16\n"
     ]
    }
   ],
   "source": [
    "print(apple_store_header)\n",
    "print(\"\\n\")\n",
    "explore_data(apple_store, 0, 5, True)"
   ]
  },
  {
   "cell_type": "markdown",
   "metadata": {},
   "source": [
    "We can see that we have 7197 rows of data and each row contains information about single app.  \n",
    "  \n",
    "We also have 16 columns and some of them that might be useful for our analysis are: 'track_name', 'currency', 'price', 'rating_count_tot', 'rating_count_ver', and 'prime_genre'."
   ]
  },
  {
   "cell_type": "markdown",
   "metadata": {},
   "source": [
    "### Google Play Data"
   ]
  },
  {
   "cell_type": "markdown",
   "metadata": {},
   "source": [
    "The documentation of the Google Play Data can be found here: [Google Play Dataset](https://www.kaggle.com/datasets/lava18/google-play-store-apps)  \n",
    "The dataset can be downloaded directly from [this link](https://dq-content.s3.amazonaws.com/350/googleplaystore.csv)"
   ]
  },
  {
   "cell_type": "code",
   "execution_count": 6,
   "metadata": {},
   "outputs": [
    {
     "name": "stdout",
     "output_type": "stream",
     "text": [
      "['App', 'Category', 'Rating', 'Reviews', 'Size', 'Installs', 'Type', 'Price', 'Content Rating', 'Genres', 'Last Updated', 'Current Ver', 'Android Ver']\n",
      "\n",
      "\n",
      "['Photo Editor & Candy Camera & Grid & ScrapBook', 'ART_AND_DESIGN', '4.1', '159', '19M', '10,000+', 'Free', '0', 'Everyone', 'Art & Design', 'January 7, 2018', '1.0.0', '4.0.3 and up']\n",
      "\n",
      "\n",
      "['Coloring book moana', 'ART_AND_DESIGN', '3.9', '967', '14M', '500,000+', 'Free', '0', 'Everyone', 'Art & Design;Pretend Play', 'January 15, 2018', '2.0.0', '4.0.3 and up']\n",
      "\n",
      "\n",
      "['U Launcher Lite – FREE Live Cool Themes, Hide Apps', 'ART_AND_DESIGN', '4.7', '87510', '8.7M', '5,000,000+', 'Free', '0', 'Everyone', 'Art & Design', 'August 1, 2018', '1.2.4', '4.0.3 and up']\n",
      "\n",
      "\n",
      "['Sketch - Draw & Paint', 'ART_AND_DESIGN', '4.5', '215644', '25M', '50,000,000+', 'Free', '0', 'Teen', 'Art & Design', 'June 8, 2018', 'Varies with device', '4.2 and up']\n",
      "\n",
      "\n",
      "['Pixel Draw - Number Art Coloring Book', 'ART_AND_DESIGN', '4.3', '967', '2.8M', '100,000+', 'Free', '0', 'Everyone', 'Art & Design;Creativity', 'June 20, 2018', '1.1', '4.4 and up']\n",
      "\n",
      "\n",
      "Number of rows: 10841\n",
      "Number of columns: 13\n"
     ]
    }
   ],
   "source": [
    "print(google_play_header)\n",
    "print(\"\\n\")\n",
    "explore_data(google_play, 0, 5, True)"
   ]
  },
  {
   "cell_type": "markdown",
   "metadata": {},
   "source": [
    "In Google Play dataset we have 10841 rows and each row also contains information about single app.  \n",
    "  \n",
    "For our analysis we can use some of 13 available columns which are: 'App', 'Category', 'Reviews', 'Installs', 'Type', 'Price', and 'Genres'."
   ]
  },
  {
   "cell_type": "markdown",
   "metadata": {},
   "source": [
    "## Cleaning the Data"
   ]
  },
  {
   "cell_type": "markdown",
   "metadata": {},
   "source": [
    "In the discussion section in Google Play documentation there is one row that is described to have some errors. "
   ]
  },
  {
   "cell_type": "code",
   "execution_count": 7,
   "metadata": {},
   "outputs": [
    {
     "name": "stdout",
     "output_type": "stream",
     "text": [
      "['App', 'Category', 'Rating', 'Reviews', 'Size', 'Installs', 'Type', 'Price', 'Content Rating', 'Genres', 'Last Updated', 'Current Ver', 'Android Ver']\n",
      "\n",
      "\n",
      "['Life Made WI-Fi Touchscreen Photo Frame', '1.9', '19', '3.0M', '1,000+', 'Free', '0', 'Everyone', '', 'February 11, 2018', '1.0.19', '4.0 and up']\n",
      "\n",
      "\n",
      "['Xposed Wi-Fi-Pwd', 'PERSONALIZATION', '3.5', '1042', '404k', '100,000+', 'Free', '0', 'Everyone', 'Personalization', 'August 5, 2014', '3.0.0', '4.0.3 and up']\n"
     ]
    }
   ],
   "source": [
    "print(google_play_header)\n",
    "print(\"\\n\")\n",
    "print(google_play[10472])\n",
    "print(\"\\n\")\n",
    "print(google_play[10471]) # to compare"
   ]
  },
  {
   "cell_type": "markdown",
   "metadata": {},
   "source": [
    "Row 10472 has missing value and misplaced columns."
   ]
  },
  {
   "cell_type": "code",
   "execution_count": 8,
   "metadata": {},
   "outputs": [],
   "source": [
    "del google_play[10472]"
   ]
  },
  {
   "cell_type": "markdown",
   "metadata": {},
   "source": [
    "## Removing Duplicate Entries"
   ]
  },
  {
   "cell_type": "markdown",
   "metadata": {},
   "source": [
    "### Checking if there are duplicate apps"
   ]
  },
  {
   "cell_type": "code",
   "execution_count": 9,
   "metadata": {},
   "outputs": [
    {
     "name": "stdout",
     "output_type": "stream",
     "text": [
      "Amout of duplicate apps:  1181\n",
      "\n",
      "\n",
      "Examples of dupicate apps:  ['Quick PDF Scanner + OCR FREE', 'Box', 'Google My Business', 'ZOOM Cloud Meetings', 'join.me - Simple Meetings', 'Box', 'Zenefits', 'Google Ads', 'Google My Business', 'Slack', 'FreshBooks Classic', 'Insightly CRM', 'QuickBooks Accounting: Invoicing & Expenses', 'HipChat - Chat Built for Teams', 'Xero Accounting Software']\n"
     ]
    }
   ],
   "source": [
    "duplicate_apps = []\n",
    "unique_apps = []\n",
    "\n",
    "for app in google_play:\n",
    "    name = app[0]\n",
    "    if name in unique_apps:\n",
    "        duplicate_apps.append(name)\n",
    "    else: \n",
    "        unique_apps.append(name)\n",
    "\n",
    "print('Amout of duplicate apps: ', len(duplicate_apps))\n",
    "print('\\n')\n",
    "print('Examples of dupicate apps: ', duplicate_apps[:15])"
   ]
  },
  {
   "cell_type": "markdown",
   "metadata": {},
   "source": [
    "There are 1181 duplicate apps in Google Play Dataset. The example of duplicate app is ZOOM Cloud Meetings:"
   ]
  },
  {
   "cell_type": "markdown",
   "metadata": {},
   "source": [
    "### Checking what is the difference between duplicate rows"
   ]
  },
  {
   "cell_type": "code",
   "execution_count": 10,
   "metadata": {},
   "outputs": [
    {
     "name": "stdout",
     "output_type": "stream",
     "text": [
      "['ZOOM Cloud Meetings', 'BUSINESS', '4.4', '31614', '37M', '10,000,000+', 'Free', '0', 'Everyone', 'Business', 'July 20, 2018', '4.1.28165.0716', '4.0 and up']\n",
      "\n",
      "\n",
      "['ZOOM Cloud Meetings', 'BUSINESS', '4.4', '31614', '37M', '10,000,000+', 'Free', '0', 'Everyone', 'Business', 'July 20, 2018', '4.1.28165.0716', '4.0 and up']\n",
      "\n",
      "\n"
     ]
    }
   ],
   "source": [
    "for app in google_play:\n",
    "    name = app[0]\n",
    "    if name == \"ZOOM Cloud Meetings\":\n",
    "        print(app)\n",
    "        print('\\n')"
   ]
  },
  {
   "cell_type": "markdown",
   "metadata": {},
   "source": [
    "These rows do not differ"
   ]
  },
  {
   "cell_type": "code",
   "execution_count": 11,
   "metadata": {},
   "outputs": [
    {
     "name": "stdout",
     "output_type": "stream",
     "text": [
      "['Xero Accounting Software', 'BUSINESS', '3.5', '2111', 'Varies with device', '100,000+', 'Free', '0', 'Everyone', 'Business', 'July 30, 2018', 'Varies with device', 'Varies with device']\n",
      "\n",
      "\n",
      "['Xero Accounting Software', 'BUSINESS', '3.5', '2111', 'Varies with device', '100,000+', 'Free', '0', 'Everyone', 'Business', 'July 30, 2018', 'Varies with device', 'Varies with device']\n",
      "\n",
      "\n"
     ]
    }
   ],
   "source": [
    "for app in google_play:\n",
    "    name = app[0]\n",
    "    if name == \"Xero Accounting Software\":\n",
    "        print(app)\n",
    "        print('\\n')"
   ]
  },
  {
   "cell_type": "markdown",
   "metadata": {},
   "source": [
    "These rows do not differ either"
   ]
  },
  {
   "cell_type": "markdown",
   "metadata": {},
   "source": [
    "### Deciding which rows will be deleted"
   ]
  },
  {
   "cell_type": "code",
   "execution_count": 12,
   "metadata": {},
   "outputs": [
    {
     "name": "stdout",
     "output_type": "stream",
     "text": [
      "['Instagram', 'SOCIAL', '4.5', '66577313', 'Varies with device', '1,000,000,000+', 'Free', '0', 'Teen', 'Social', 'July 31, 2018', 'Varies with device', 'Varies with device']\n",
      "\n",
      "\n",
      "['Instagram', 'SOCIAL', '4.5', '66577446', 'Varies with device', '1,000,000,000+', 'Free', '0', 'Teen', 'Social', 'July 31, 2018', 'Varies with device', 'Varies with device']\n",
      "\n",
      "\n",
      "['Instagram', 'SOCIAL', '4.5', '66577313', 'Varies with device', '1,000,000,000+', 'Free', '0', 'Teen', 'Social', 'July 31, 2018', 'Varies with device', 'Varies with device']\n",
      "\n",
      "\n",
      "['Instagram', 'SOCIAL', '4.5', '66509917', 'Varies with device', '1,000,000,000+', 'Free', '0', 'Teen', 'Social', 'July 31, 2018', 'Varies with device', 'Varies with device']\n",
      "\n",
      "\n"
     ]
    }
   ],
   "source": [
    "for app in google_play:\n",
    "    name = app[0]\n",
    "    if name == \"Instagram\":\n",
    "        print(app)\n",
    "        print('\\n')"
   ]
  },
  {
   "cell_type": "markdown",
   "metadata": {},
   "source": [
    "The difference between these rows is the amount of reviews: that shows that the data was collected at different times.  \n",
    "So we are free to remove duplicates.  \n",
    "The number of reviews will be criterion for removing the duplicates. I'll keep the row with the highest number of rewievs which is the most recent data.\n",
    "\n"
   ]
  },
  {
   "cell_type": "code",
   "execution_count": 13,
   "metadata": {},
   "outputs": [],
   "source": [
    "reviews_max = {}\n",
    "for app in google_play:\n",
    "    name = app[0]\n",
    "    n_reviews = float(app[3])\n",
    "    if name in reviews_max and n_reviews > reviews_max[name]:\n",
    "        reviews_max[name] = n_reviews\n",
    "    elif name not in reviews_max:\n",
    "        reviews_max[name] = n_reviews\n",
    "        "
   ]
  },
  {
   "cell_type": "code",
   "execution_count": 14,
   "metadata": {},
   "outputs": [
    {
     "name": "stdout",
     "output_type": "stream",
     "text": [
      "66577446.0\n"
     ]
    }
   ],
   "source": [
    "print(reviews_max[\"Instagram\"])"
   ]
  },
  {
   "cell_type": "code",
   "execution_count": 15,
   "metadata": {},
   "outputs": [],
   "source": [
    "google_play_clean = []\n",
    "already_added = []\n"
   ]
  },
  {
   "cell_type": "code",
   "execution_count": 16,
   "metadata": {},
   "outputs": [],
   "source": [
    "for app in google_play:\n",
    "    name = app[0]\n",
    "    n_reviews = float(app[3])\n",
    "    if n_reviews == reviews_max[name] and name not in already_added:\n",
    "        google_play_clean.append(app)\n",
    "        already_added.append(name)"
   ]
  },
  {
   "cell_type": "markdown",
   "metadata": {},
   "source": [
    "In the code above I use **max_reviews** dictionary to remove duplicate apps. \n",
    "* I initialize two lists: **google_play_clean** and **already added**.\n",
    "* I loop through **google_play** dataset and isolate name and number of reviews of the app.\n",
    "* If number of reviews equals number of reviews from **max_reviews** dictionary and name of the app is not already in **already_added** list, I add the app to **google_play_clean** list"
   ]
  },
  {
   "cell_type": "code",
   "execution_count": 17,
   "metadata": {},
   "outputs": [
    {
     "name": "stdout",
     "output_type": "stream",
     "text": [
      "['Photo Editor & Candy Camera & Grid & ScrapBook', 'ART_AND_DESIGN', '4.1', '159', '19M', '10,000+', 'Free', '0', 'Everyone', 'Art & Design', 'January 7, 2018', '1.0.0', '4.0.3 and up']\n",
      "\n",
      "\n",
      "['U Launcher Lite – FREE Live Cool Themes, Hide Apps', 'ART_AND_DESIGN', '4.7', '87510', '8.7M', '5,000,000+', 'Free', '0', 'Everyone', 'Art & Design', 'August 1, 2018', '1.2.4', '4.0.3 and up']\n",
      "\n",
      "\n",
      "['Sketch - Draw & Paint', 'ART_AND_DESIGN', '4.5', '215644', '25M', '50,000,000+', 'Free', '0', 'Teen', 'Art & Design', 'June 8, 2018', 'Varies with device', '4.2 and up']\n",
      "\n",
      "\n",
      "['Pixel Draw - Number Art Coloring Book', 'ART_AND_DESIGN', '4.3', '967', '2.8M', '100,000+', 'Free', '0', 'Everyone', 'Art & Design;Creativity', 'June 20, 2018', '1.1', '4.4 and up']\n",
      "\n",
      "\n",
      "['Paper flowers instructions', 'ART_AND_DESIGN', '4.4', '167', '5.6M', '50,000+', 'Free', '0', 'Everyone', 'Art & Design', 'March 26, 2017', '1.0', '2.3 and up']\n",
      "\n",
      "\n",
      "Number of rows: 9659\n",
      "Number of columns: 13\n"
     ]
    }
   ],
   "source": [
    "explore_data(google_play_clean, 0, 5, True)"
   ]
  },
  {
   "cell_type": "markdown",
   "metadata": {},
   "source": [
    "## Removing Non-English Apps"
   ]
  },
  {
   "cell_type": "markdown",
   "metadata": {},
   "source": [
    "### Checking if word is english"
   ]
  },
  {
   "cell_type": "markdown",
   "metadata": {},
   "source": [
    "For checking if the app is english I will use the **check_if_english** function written below."
   ]
  },
  {
   "cell_type": "code",
   "execution_count": 18,
   "metadata": {},
   "outputs": [],
   "source": [
    "def check_if_english(a_string):\n",
    "    '''\n",
    "    Check if a string is predominantly in English by counting non-ASCII characters.\n",
    "\n",
    "            Parameters:\n",
    "                    a_string (str): The string to be checked.\n",
    "\n",
    "            Returns:\n",
    "                    bool: Returns True if the string contains 3 or fewer non-ASCII characters (ASCII > 127), \n",
    "                          suggesting it is primarily in English. Returns False if it contains more than 3 non-ASCII characters.\n",
    "    '''\n",
    "    \n",
    "    non_ascii = 0\n",
    "    \n",
    "    for character in a_string:\n",
    "        if ord(character) > 127:\n",
    "            non_ascii += 1\n",
    "    \n",
    "    if non_ascii > 3:\n",
    "        return False\n",
    "    else:\n",
    "        return True\n"
   ]
  },
  {
   "cell_type": "markdown",
   "metadata": {},
   "source": [
    "Since the names of some English apps contain characters like emojis or symbols such as \"™\", I will remove apps with more than three non-ASCII characters.  This approach ensures that we don’t lose important data about English apps due to the presence of emojis or similar symbols."
   ]
  },
  {
   "cell_type": "code",
   "execution_count": 19,
   "metadata": {},
   "outputs": [
    {
     "name": "stdout",
     "output_type": "stream",
     "text": [
      "True\n",
      "False\n",
      "True\n",
      "True\n"
     ]
    }
   ],
   "source": [
    "print(check_if_english('Instagram'))\n",
    "print(check_if_english('爱奇艺PPS -《欢乐颂2》电视剧热播'))\n",
    "print(check_if_english('Docs To Go™ Free Office Suite'))\n",
    "print(check_if_english('Instachat 😜'))"
   ]
  },
  {
   "cell_type": "markdown",
   "metadata": {},
   "source": [
    "### Removing non-english apps"
   ]
  },
  {
   "cell_type": "markdown",
   "metadata": {},
   "source": [
    "Below I use **check_if_english()** function to filter the Google Play dataset and Apple Store dataset. Them I explore data one more time."
   ]
  },
  {
   "cell_type": "code",
   "execution_count": 20,
   "metadata": {},
   "outputs": [],
   "source": [
    "google_play_only_english = []\n",
    "for app in google_play_clean:\n",
    "    name = app[0]\n",
    "    if check_if_english(name):\n",
    "        google_play_only_english.append(app)"
   ]
  },
  {
   "cell_type": "code",
   "execution_count": 21,
   "metadata": {},
   "outputs": [
    {
     "name": "stdout",
     "output_type": "stream",
     "text": [
      "['Photo Editor & Candy Camera & Grid & ScrapBook', 'ART_AND_DESIGN', '4.1', '159', '19M', '10,000+', 'Free', '0', 'Everyone', 'Art & Design', 'January 7, 2018', '1.0.0', '4.0.3 and up']\n",
      "\n",
      "\n",
      "['U Launcher Lite – FREE Live Cool Themes, Hide Apps', 'ART_AND_DESIGN', '4.7', '87510', '8.7M', '5,000,000+', 'Free', '0', 'Everyone', 'Art & Design', 'August 1, 2018', '1.2.4', '4.0.3 and up']\n",
      "\n",
      "\n",
      "['Sketch - Draw & Paint', 'ART_AND_DESIGN', '4.5', '215644', '25M', '50,000,000+', 'Free', '0', 'Teen', 'Art & Design', 'June 8, 2018', 'Varies with device', '4.2 and up']\n",
      "\n",
      "\n",
      "['Pixel Draw - Number Art Coloring Book', 'ART_AND_DESIGN', '4.3', '967', '2.8M', '100,000+', 'Free', '0', 'Everyone', 'Art & Design;Creativity', 'June 20, 2018', '1.1', '4.4 and up']\n",
      "\n",
      "\n",
      "['Paper flowers instructions', 'ART_AND_DESIGN', '4.4', '167', '5.6M', '50,000+', 'Free', '0', 'Everyone', 'Art & Design', 'March 26, 2017', '1.0', '2.3 and up']\n",
      "\n",
      "\n",
      "Number of rows: 9614\n",
      "Number of columns: 13\n"
     ]
    }
   ],
   "source": [
    "explore_data(google_play_only_english, 0, 5, True)"
   ]
  },
  {
   "cell_type": "code",
   "execution_count": 22,
   "metadata": {},
   "outputs": [],
   "source": [
    "apple_store_only_english = []\n",
    "\n",
    "for app in apple_store:\n",
    "    name = app[1]\n",
    "    if check_if_english(name):\n",
    "        apple_store_only_english.append(app)"
   ]
  },
  {
   "cell_type": "code",
   "execution_count": 23,
   "metadata": {},
   "outputs": [
    {
     "name": "stdout",
     "output_type": "stream",
     "text": [
      "['284882215', 'Facebook', '389879808', 'USD', '0.0', '2974676', '212', '3.5', '3.5', '95.0', '4+', 'Social Networking', '37', '1', '29', '1']\n",
      "\n",
      "\n",
      "['389801252', 'Instagram', '113954816', 'USD', '0.0', '2161558', '1289', '4.5', '4.0', '10.23', '12+', 'Photo & Video', '37', '0', '29', '1']\n",
      "\n",
      "\n",
      "['529479190', 'Clash of Clans', '116476928', 'USD', '0.0', '2130805', '579', '4.5', '4.5', '9.24.12', '9+', 'Games', '38', '5', '18', '1']\n",
      "\n",
      "\n",
      "['420009108', 'Temple Run', '65921024', 'USD', '0.0', '1724546', '3842', '4.5', '4.0', '1.6.2', '9+', 'Games', '40', '5', '1', '1']\n",
      "\n",
      "\n",
      "['284035177', 'Pandora - Music & Radio', '130242560', 'USD', '0.0', '1126879', '3594', '4.0', '4.5', '8.4.1', '12+', 'Music', '37', '4', '1', '1']\n",
      "\n",
      "\n",
      "Number of rows: 6183\n",
      "Number of columns: 16\n"
     ]
    }
   ],
   "source": [
    "explore_data(apple_store_only_english, 0 ,5, True)"
   ]
  },
  {
   "cell_type": "markdown",
   "metadata": {},
   "source": [
    "## Isolating the Free Apps"
   ]
  },
  {
   "cell_type": "code",
   "execution_count": 24,
   "metadata": {},
   "outputs": [],
   "source": [
    "google_play_final = []\n",
    "for app in google_play_only_english:\n",
    "    price = app[7]\n",
    "    \n",
    "    if price == '0':\n",
    "        google_play_final.append(app)\n",
    "    "
   ]
  },
  {
   "cell_type": "code",
   "execution_count": 25,
   "metadata": {},
   "outputs": [
    {
     "name": "stdout",
     "output_type": "stream",
     "text": [
      "['Photo Editor & Candy Camera & Grid & ScrapBook', 'ART_AND_DESIGN', '4.1', '159', '19M', '10,000+', 'Free', '0', 'Everyone', 'Art & Design', 'January 7, 2018', '1.0.0', '4.0.3 and up']\n",
      "\n",
      "\n",
      "['U Launcher Lite – FREE Live Cool Themes, Hide Apps', 'ART_AND_DESIGN', '4.7', '87510', '8.7M', '5,000,000+', 'Free', '0', 'Everyone', 'Art & Design', 'August 1, 2018', '1.2.4', '4.0.3 and up']\n",
      "\n",
      "\n",
      "['Sketch - Draw & Paint', 'ART_AND_DESIGN', '4.5', '215644', '25M', '50,000,000+', 'Free', '0', 'Teen', 'Art & Design', 'June 8, 2018', 'Varies with device', '4.2 and up']\n",
      "\n",
      "\n",
      "['Pixel Draw - Number Art Coloring Book', 'ART_AND_DESIGN', '4.3', '967', '2.8M', '100,000+', 'Free', '0', 'Everyone', 'Art & Design;Creativity', 'June 20, 2018', '1.1', '4.4 and up']\n",
      "\n",
      "\n",
      "['Paper flowers instructions', 'ART_AND_DESIGN', '4.4', '167', '5.6M', '50,000+', 'Free', '0', 'Everyone', 'Art & Design', 'March 26, 2017', '1.0', '2.3 and up']\n",
      "\n",
      "\n",
      "Number of rows: 8864\n",
      "Number of columns: 13\n"
     ]
    }
   ],
   "source": [
    "explore_data(google_play_final, 0, 5, True)"
   ]
  },
  {
   "cell_type": "code",
   "execution_count": 26,
   "metadata": {},
   "outputs": [],
   "source": [
    "apple_store_final = []\n",
    "for app in apple_store_only_english:\n",
    "    price = app[4]\n",
    "    \n",
    "    if price == '0.0':\n",
    "        apple_store_final.append(app)"
   ]
  },
  {
   "cell_type": "code",
   "execution_count": 27,
   "metadata": {},
   "outputs": [
    {
     "name": "stdout",
     "output_type": "stream",
     "text": [
      "['284882215', 'Facebook', '389879808', 'USD', '0.0', '2974676', '212', '3.5', '3.5', '95.0', '4+', 'Social Networking', '37', '1', '29', '1']\n",
      "\n",
      "\n",
      "['389801252', 'Instagram', '113954816', 'USD', '0.0', '2161558', '1289', '4.5', '4.0', '10.23', '12+', 'Photo & Video', '37', '0', '29', '1']\n",
      "\n",
      "\n",
      "['529479190', 'Clash of Clans', '116476928', 'USD', '0.0', '2130805', '579', '4.5', '4.5', '9.24.12', '9+', 'Games', '38', '5', '18', '1']\n",
      "\n",
      "\n",
      "['420009108', 'Temple Run', '65921024', 'USD', '0.0', '1724546', '3842', '4.5', '4.0', '1.6.2', '9+', 'Games', '40', '5', '1', '1']\n",
      "\n",
      "\n",
      "['284035177', 'Pandora - Music & Radio', '130242560', 'USD', '0.0', '1126879', '3594', '4.0', '4.5', '8.4.1', '12+', 'Music', '37', '4', '1', '1']\n",
      "\n",
      "\n",
      "Number of rows: 3222\n",
      "Number of columns: 16\n"
     ]
    }
   ],
   "source": [
    "explore_data(apple_store_final, 0, 5, True)"
   ]
  },
  {
   "cell_type": "markdown",
   "metadata": {},
   "source": [
    "## Most common apps by genre"
   ]
  },
  {
   "cell_type": "code",
   "execution_count": 28,
   "metadata": {},
   "outputs": [],
   "source": [
    "def freq_table(dataset, index):\n",
    "    total = 0\n",
    "    freq_table = {}\n",
    "    for row in dataset:\n",
    "        total += 1\n",
    "        feature = row[index]\n",
    "        if feature in freq_table:\n",
    "            freq_table[feature] += 1\n",
    "        else:\n",
    "            freq_table[feature] = 1\n",
    "    \n",
    "    table_percentages = {}\n",
    "    for key in freq_table:\n",
    "        percentage = (freq_table[key] / total) * 100\n",
    "        table_percentages[key] = percentage \n",
    "    \n",
    "    return table_percentages\n",
    "    "
   ]
  },
  {
   "cell_type": "code",
   "execution_count": 29,
   "metadata": {},
   "outputs": [],
   "source": [
    "def display_table(dataset, index):\n",
    "    '''\n",
    "    Display the frequency table of a specified column in the dataset, sorted in descending order.\n",
    "\n",
    "            Parameters:\n",
    "                    dataset (list of lists): The dataset to be analyzed, where each inner list represents a row.\n",
    "                    index (int): The index of the column to generate the frequency table for.\n",
    "\n",
    "            Returns:\n",
    "                    None: Prints each unique entry in the specified column along with its frequency, in descending order.\n",
    "    '''\n",
    "    \n",
    "    table = freq_table(dataset, index)\n",
    "    table_display = []\n",
    "    for key in table:\n",
    "        key_val_as_tuple = (table[key], key)\n",
    "        table_display.append(key_val_as_tuple)\n",
    "\n",
    "    table_sorted = sorted(table_display, reverse = True)\n",
    "    for entry in table_sorted:\n",
    "        print(entry[1], ':', entry[0])"
   ]
  },
  {
   "cell_type": "code",
   "execution_count": 30,
   "metadata": {},
   "outputs": [
    {
     "name": "stdout",
     "output_type": "stream",
     "text": [
      "Games : 58.16263190564867\n",
      "Entertainment : 7.883302296710118\n",
      "Photo & Video : 4.9658597144630665\n",
      "Education : 3.662321539416512\n",
      "Social Networking : 3.2898820608317814\n",
      "Shopping : 2.60707635009311\n",
      "Utilities : 2.5139664804469275\n",
      "Sports : 2.1415270018621975\n",
      "Music : 2.0484171322160147\n",
      "Health & Fitness : 2.0173805090006205\n",
      "Productivity : 1.7380509000620732\n",
      "Lifestyle : 1.5828677839851024\n",
      "News : 1.3345747982619491\n",
      "Travel : 1.2414649286157666\n",
      "Finance : 1.1173184357541899\n",
      "Weather : 0.8690254500310366\n",
      "Food & Drink : 0.8069522036002483\n",
      "Reference : 0.5586592178770949\n",
      "Business : 0.5276225946617008\n",
      "Book : 0.4345127250155183\n",
      "Navigation : 0.186219739292365\n",
      "Medical : 0.186219739292365\n",
      "Catalogs : 0.12414649286157665\n"
     ]
    }
   ],
   "source": [
    "display_table(apple_store_final, -5)"
   ]
  },
  {
   "cell_type": "markdown",
   "metadata": {},
   "source": [
    "Percentages shows that among free English apps the most common are games (more than a half - 58.16%). 7.88% are entertainment apps and 4.96% are apps designed for photos and videos.  \n",
    "  \n",
    "We can see that apps with practical purpose (education, business, productivity, medical etc.) are far less common than apps designed for fun (like games, music, social networking).  \n",
    "  \n",
    "However, the large number of fun apps doesn't necessarily mean they also have the highest user base — demand might not match supply in this case."
   ]
  },
  {
   "cell_type": "code",
   "execution_count": 31,
   "metadata": {},
   "outputs": [
    {
     "name": "stdout",
     "output_type": "stream",
     "text": [
      "FAMILY : 18.907942238267147\n",
      "GAME : 9.724729241877256\n",
      "TOOLS : 8.461191335740072\n",
      "BUSINESS : 4.591606498194946\n",
      "LIFESTYLE : 3.9034296028880866\n",
      "PRODUCTIVITY : 3.892148014440433\n",
      "FINANCE : 3.7003610108303246\n",
      "MEDICAL : 3.531137184115524\n",
      "SPORTS : 3.395758122743682\n",
      "PERSONALIZATION : 3.3167870036101084\n",
      "COMMUNICATION : 3.2378158844765346\n",
      "HEALTH_AND_FITNESS : 3.0798736462093865\n",
      "PHOTOGRAPHY : 2.944494584837545\n",
      "NEWS_AND_MAGAZINES : 2.7978339350180503\n",
      "SOCIAL : 2.6624548736462095\n",
      "TRAVEL_AND_LOCAL : 2.33528880866426\n",
      "SHOPPING : 2.2450361010830324\n",
      "BOOKS_AND_REFERENCE : 2.1435018050541514\n",
      "DATING : 1.861462093862816\n",
      "VIDEO_PLAYERS : 1.7937725631768955\n",
      "MAPS_AND_NAVIGATION : 1.3989169675090252\n",
      "FOOD_AND_DRINK : 1.2409747292418771\n",
      "EDUCATION : 1.1620036101083033\n",
      "ENTERTAINMENT : 0.9589350180505415\n",
      "LIBRARIES_AND_DEMO : 0.9363718411552346\n",
      "AUTO_AND_VEHICLES : 0.9250902527075812\n",
      "HOUSE_AND_HOME : 0.8235559566787004\n",
      "WEATHER : 0.8009927797833934\n",
      "EVENTS : 0.7107400722021661\n",
      "PARENTING : 0.6543321299638989\n",
      "ART_AND_DESIGN : 0.6430505415162455\n",
      "COMICS : 0.6204873646209386\n",
      "BEAUTY : 0.5979241877256317\n"
     ]
    }
   ],
   "source": [
    "display_table(google_play_final, 1) # Category "
   ]
  },
  {
   "cell_type": "markdown",
   "metadata": {},
   "source": [
    "Among categories of apps from Google Play the most common are family apps (18.90%), followed by game apps (9.72%) and tools apps (8.46%).  \n",
    "  \n",
    "At Google Play apps with more practical purpose (like business, productivity, finance) are greater part of all apps than at Apple Store. "
   ]
  },
  {
   "cell_type": "code",
   "execution_count": 32,
   "metadata": {},
   "outputs": [
    {
     "name": "stdout",
     "output_type": "stream",
     "text": [
      "Tools : 8.449909747292418\n",
      "Entertainment : 6.069494584837545\n",
      "Education : 5.347472924187725\n",
      "Business : 4.591606498194946\n",
      "Productivity : 3.892148014440433\n",
      "Lifestyle : 3.892148014440433\n",
      "Finance : 3.7003610108303246\n",
      "Medical : 3.531137184115524\n",
      "Sports : 3.463447653429603\n",
      "Personalization : 3.3167870036101084\n",
      "Communication : 3.2378158844765346\n",
      "Action : 3.1024368231046933\n",
      "Health & Fitness : 3.0798736462093865\n",
      "Photography : 2.944494584837545\n",
      "News & Magazines : 2.7978339350180503\n",
      "Social : 2.6624548736462095\n",
      "Travel & Local : 2.3240072202166067\n",
      "Shopping : 2.2450361010830324\n",
      "Books & Reference : 2.1435018050541514\n",
      "Simulation : 2.0419675090252705\n",
      "Dating : 1.861462093862816\n",
      "Arcade : 1.8501805054151623\n",
      "Video Players & Editors : 1.7712093862815883\n",
      "Casual : 1.7599277978339352\n",
      "Maps & Navigation : 1.3989169675090252\n",
      "Food & Drink : 1.2409747292418771\n",
      "Puzzle : 1.128158844765343\n",
      "Racing : 0.9927797833935018\n",
      "Role Playing : 0.9363718411552346\n",
      "Libraries & Demo : 0.9363718411552346\n",
      "Auto & Vehicles : 0.9250902527075812\n",
      "Strategy : 0.9138086642599278\n",
      "House & Home : 0.8235559566787004\n",
      "Weather : 0.8009927797833934\n",
      "Events : 0.7107400722021661\n",
      "Adventure : 0.6768953068592057\n",
      "Comics : 0.6092057761732852\n",
      "Beauty : 0.5979241877256317\n",
      "Art & Design : 0.5979241877256317\n",
      "Parenting : 0.4963898916967509\n",
      "Card : 0.45126353790613716\n",
      "Casino : 0.42870036101083037\n",
      "Trivia : 0.41741877256317694\n",
      "Educational;Education : 0.39485559566787\n",
      "Board : 0.3835740072202166\n",
      "Educational : 0.3722924187725632\n",
      "Education;Education : 0.33844765342960287\n",
      "Word : 0.2594765342960289\n",
      "Casual;Pretend Play : 0.236913357400722\n",
      "Music : 0.2030685920577617\n",
      "Racing;Action & Adventure : 0.16922382671480143\n",
      "Puzzle;Brain Games : 0.16922382671480143\n",
      "Entertainment;Music & Video : 0.16922382671480143\n",
      "Casual;Brain Games : 0.13537906137184114\n",
      "Casual;Action & Adventure : 0.13537906137184114\n",
      "Arcade;Action & Adventure : 0.12409747292418773\n",
      "Action;Action & Adventure : 0.10153429602888085\n",
      "Educational;Pretend Play : 0.09025270758122744\n",
      "Simulation;Action & Adventure : 0.078971119133574\n",
      "Parenting;Education : 0.078971119133574\n",
      "Entertainment;Brain Games : 0.078971119133574\n",
      "Board;Brain Games : 0.078971119133574\n",
      "Parenting;Music & Video : 0.06768953068592057\n",
      "Educational;Brain Games : 0.06768953068592057\n",
      "Casual;Creativity : 0.06768953068592057\n",
      "Art & Design;Creativity : 0.06768953068592057\n",
      "Education;Pretend Play : 0.056407942238267145\n",
      "Role Playing;Pretend Play : 0.04512635379061372\n",
      "Education;Creativity : 0.04512635379061372\n",
      "Role Playing;Action & Adventure : 0.033844765342960284\n",
      "Puzzle;Action & Adventure : 0.033844765342960284\n",
      "Entertainment;Creativity : 0.033844765342960284\n",
      "Entertainment;Action & Adventure : 0.033844765342960284\n",
      "Educational;Creativity : 0.033844765342960284\n",
      "Educational;Action & Adventure : 0.033844765342960284\n",
      "Education;Music & Video : 0.033844765342960284\n",
      "Education;Brain Games : 0.033844765342960284\n",
      "Education;Action & Adventure : 0.033844765342960284\n",
      "Adventure;Action & Adventure : 0.033844765342960284\n",
      "Video Players & Editors;Music & Video : 0.02256317689530686\n",
      "Sports;Action & Adventure : 0.02256317689530686\n",
      "Simulation;Pretend Play : 0.02256317689530686\n",
      "Puzzle;Creativity : 0.02256317689530686\n",
      "Music;Music & Video : 0.02256317689530686\n",
      "Entertainment;Pretend Play : 0.02256317689530686\n",
      "Casual;Education : 0.02256317689530686\n",
      "Board;Action & Adventure : 0.02256317689530686\n",
      "Video Players & Editors;Creativity : 0.01128158844765343\n",
      "Trivia;Education : 0.01128158844765343\n",
      "Travel & Local;Action & Adventure : 0.01128158844765343\n",
      "Tools;Education : 0.01128158844765343\n",
      "Strategy;Education : 0.01128158844765343\n",
      "Strategy;Creativity : 0.01128158844765343\n",
      "Strategy;Action & Adventure : 0.01128158844765343\n",
      "Simulation;Education : 0.01128158844765343\n",
      "Role Playing;Brain Games : 0.01128158844765343\n",
      "Racing;Pretend Play : 0.01128158844765343\n",
      "Puzzle;Education : 0.01128158844765343\n",
      "Parenting;Brain Games : 0.01128158844765343\n",
      "Music & Audio;Music & Video : 0.01128158844765343\n",
      "Lifestyle;Pretend Play : 0.01128158844765343\n",
      "Lifestyle;Education : 0.01128158844765343\n",
      "Health & Fitness;Education : 0.01128158844765343\n",
      "Health & Fitness;Action & Adventure : 0.01128158844765343\n",
      "Entertainment;Education : 0.01128158844765343\n",
      "Communication;Creativity : 0.01128158844765343\n",
      "Comics;Creativity : 0.01128158844765343\n",
      "Casual;Music & Video : 0.01128158844765343\n",
      "Card;Action & Adventure : 0.01128158844765343\n",
      "Books & Reference;Education : 0.01128158844765343\n",
      "Art & Design;Pretend Play : 0.01128158844765343\n",
      "Art & Design;Action & Adventure : 0.01128158844765343\n",
      "Arcade;Pretend Play : 0.01128158844765343\n",
      "Adventure;Education : 0.01128158844765343\n"
     ]
    }
   ],
   "source": [
    "display_table(google_play_final, 9) # Genre"
   ]
  },
  {
   "cell_type": "markdown",
   "metadata": {},
   "source": [
    "When we analyze apps from Google Play grouped by genre we can see that the biggest group are tools app (8.45%), followed by entertainment apps (6%) and education apps (5.35%).\n",
    "  \n",
    "The fact that there are more apps with practical purpose at Google Play than at Apple Store is also confirmed by these percentages."
   ]
  },
  {
   "cell_type": "markdown",
   "metadata": {},
   "source": [
    "But the offer not always must equal to demand. So now I will investigate which categories of apps have the greatest number of users."
   ]
  },
  {
   "cell_type": "markdown",
   "metadata": {},
   "source": [
    "## Most popular apps by genre at Apple Store"
   ]
  },
  {
   "cell_type": "code",
   "execution_count": 33,
   "metadata": {},
   "outputs": [],
   "source": [
    "genres_apple_store = freq_table(apple_store_final, -5)"
   ]
  },
  {
   "cell_type": "code",
   "execution_count": 34,
   "metadata": {},
   "outputs": [
    {
     "data": {
      "text/plain": [
       "{'Social Networking': 3.2898820608317814,\n",
       " 'Photo & Video': 4.9658597144630665,\n",
       " 'Games': 58.16263190564867,\n",
       " 'Music': 2.0484171322160147,\n",
       " 'Reference': 0.5586592178770949,\n",
       " 'Health & Fitness': 2.0173805090006205,\n",
       " 'Weather': 0.8690254500310366,\n",
       " 'Utilities': 2.5139664804469275,\n",
       " 'Travel': 1.2414649286157666,\n",
       " 'Shopping': 2.60707635009311,\n",
       " 'News': 1.3345747982619491,\n",
       " 'Navigation': 0.186219739292365,\n",
       " 'Lifestyle': 1.5828677839851024,\n",
       " 'Entertainment': 7.883302296710118,\n",
       " 'Food & Drink': 0.8069522036002483,\n",
       " 'Sports': 2.1415270018621975,\n",
       " 'Book': 0.4345127250155183,\n",
       " 'Finance': 1.1173184357541899,\n",
       " 'Education': 3.662321539416512,\n",
       " 'Productivity': 1.7380509000620732,\n",
       " 'Business': 0.5276225946617008,\n",
       " 'Catalogs': 0.12414649286157665,\n",
       " 'Medical': 0.186219739292365}"
      ]
     },
     "execution_count": 34,
     "metadata": {},
     "output_type": "execute_result"
    }
   ],
   "source": [
    "genres_apple_store"
   ]
  },
  {
   "cell_type": "markdown",
   "metadata": {},
   "source": [
    "In Apple Store dataset there is no information about number of installs of apps. For this reason I will use column named **rating_count_total** which is total number of user ratings to estimate popularity of each genre of app.  \n",
    "  \n",
    "Below, I calculate the average number of user ratings per app genre on the App Store:"
   ]
  },
  {
   "cell_type": "code",
   "execution_count": 35,
   "metadata": {},
   "outputs": [
    {
     "name": "stdout",
     "output_type": "stream",
     "text": [
      "Social Networking : 71548.34905660378\n",
      "Photo & Video : 28441.54375\n",
      "Games : 22788.6696905016\n",
      "Music : 57326.530303030304\n",
      "Reference : 74942.11111111111\n",
      "Health & Fitness : 23298.015384615384\n",
      "Weather : 52279.892857142855\n",
      "Utilities : 18684.456790123455\n",
      "Travel : 28243.8\n",
      "Shopping : 26919.690476190477\n",
      "News : 21248.023255813954\n",
      "Navigation : 86090.33333333333\n",
      "Lifestyle : 16485.764705882353\n",
      "Entertainment : 14029.830708661417\n",
      "Food & Drink : 33333.92307692308\n",
      "Sports : 23008.898550724636\n",
      "Book : 39758.5\n",
      "Finance : 31467.944444444445\n",
      "Education : 7003.983050847458\n",
      "Productivity : 21028.410714285714\n",
      "Business : 7491.117647058823\n",
      "Catalogs : 4004.0\n",
      "Medical : 612.0\n"
     ]
    }
   ],
   "source": [
    "for genre in genres_apple_store:\n",
    "    total = 0 \n",
    "    len_genre = 0\n",
    "    for app in apple_store_final:\n",
    "        genre_app = app[-5]\n",
    "        if genre_app == genre:\n",
    "            n_user_rating = float(app[5])\n",
    "            total += n_user_rating\n",
    "            len_genre += 1\n",
    "    average_number = total / len_genre\n",
    "    print(genre, \":\", average_number)"
   ]
  },
  {
   "cell_type": "markdown",
   "metadata": {},
   "source": [
    "### App recomendation - Travel Together App"
   ]
  },
  {
   "cell_type": "markdown",
   "metadata": {},
   "source": [
    "On average navigation apps has the highest number of user reviews, followed by social networking apps. Creating an app in both: navigation and social networking genres might be profitable because of high user engagement and demand.  \n",
    "  \n",
    "The example of app that connect both these genres might be app that enables planning a travel, a trip together with friends. That kind of app can offer features for arranging group travel, coordinating plans with friends, restaurant recommendations and points of interest with friend, travel-related forums and messaging for tips, reviews, and real-time location-based travel recommendations.  \n",
    "  \n",
    "This app can be used mainly for practical purposes, but it can also bring a lot of fun from plannig a trip and traveling together!\n"
   ]
  },
  {
   "cell_type": "markdown",
   "metadata": {},
   "source": [
    "### Why not weather app?\n"
   ]
  },
  {
   "cell_type": "markdown",
   "metadata": {},
   "source": [
    "Weather apps seem to be popular according to number of user reviews, but people usually do not spend much time on them. They usually take a quick look at current weather and weather forecast for the rest of day or other days and close app, so if we want to create an app that makes profit from in-app adds, the weather app will not be a great idea."
   ]
  },
  {
   "cell_type": "markdown",
   "metadata": {},
   "source": [
    "### Why not food or drink app?"
   ]
  },
  {
   "cell_type": "code",
   "execution_count": 36,
   "metadata": {},
   "outputs": [
    {
     "name": "stdout",
     "output_type": "stream",
     "text": [
      "Starbucks :  303856\n",
      "Domino's Pizza USA :  258624\n",
      "OpenTable - Restaurant Reservations :  113936\n",
      "Allrecipes Dinner Spinner :  109349\n",
      "DoorDash - Food Delivery :  25947\n",
      "UberEATS: Uber for Food Delivery :  17865\n",
      "Postmates - Food Delivery, Faster :  9519\n",
      "Dunkin' Donuts - Get Offers, Coupons & Rewards :  9068\n",
      "Chick-fil-A :  5665\n",
      "McDonald's :  4050\n",
      "Deliveroo: Restaurant Delivery - Order Food Nearby :  1702\n",
      "SONIC Drive-In :  1645\n",
      "Nowait Guest :  1625\n",
      "7-Eleven, Inc. :  1356\n",
      "Outback :  805\n",
      "Bon Appetit :  750\n",
      "Starbucks Keyboard :  457\n",
      "Whataburger :  197\n",
      "Delish Eatmoji Keyboard :  154\n",
      "Lieferheld - Delicious food delivery service :  29\n",
      "Lieferando.de :  29\n",
      "McDo France :  22\n",
      "Chefkoch - Rezepte, Kochen, Backen & Kochbuch :  20\n",
      "Youmiam :  9\n",
      "Marmiton Twist :  2\n",
      "Open Food Facts :  1\n"
     ]
    }
   ],
   "source": [
    "for app in apple_store_final:\n",
    "    genre = app[-5]\n",
    "    if genre == \"Food & Drink\":\n",
    "        print(app[1], \": \", app[5])"
   ]
  },
  {
   "cell_type": "markdown",
   "metadata": {},
   "source": [
    "As we can see, the most popular Food & Drink apps are connected with companies like Starbucks, Domino's Pizza etc. That means that creating popular and profitable Food & Drink app might reqire cooking and delivery service."
   ]
  },
  {
   "cell_type": "markdown",
   "metadata": {},
   "source": [
    "## Most popular apps by genre at Google Play"
   ]
  },
  {
   "cell_type": "code",
   "execution_count": 37,
   "metadata": {},
   "outputs": [],
   "source": [
    "categories_google_play = freq_table(google_play_final, 1) # Categories"
   ]
  },
  {
   "cell_type": "code",
   "execution_count": 38,
   "metadata": {},
   "outputs": [
    {
     "data": {
      "text/plain": [
       "{'ART_AND_DESIGN': 0.6430505415162455,\n",
       " 'AUTO_AND_VEHICLES': 0.9250902527075812,\n",
       " 'BEAUTY': 0.5979241877256317,\n",
       " 'BOOKS_AND_REFERENCE': 2.1435018050541514,\n",
       " 'BUSINESS': 4.591606498194946,\n",
       " 'COMICS': 0.6204873646209386,\n",
       " 'COMMUNICATION': 3.2378158844765346,\n",
       " 'DATING': 1.861462093862816,\n",
       " 'EDUCATION': 1.1620036101083033,\n",
       " 'ENTERTAINMENT': 0.9589350180505415,\n",
       " 'EVENTS': 0.7107400722021661,\n",
       " 'FINANCE': 3.7003610108303246,\n",
       " 'FOOD_AND_DRINK': 1.2409747292418771,\n",
       " 'HEALTH_AND_FITNESS': 3.0798736462093865,\n",
       " 'HOUSE_AND_HOME': 0.8235559566787004,\n",
       " 'LIBRARIES_AND_DEMO': 0.9363718411552346,\n",
       " 'LIFESTYLE': 3.9034296028880866,\n",
       " 'GAME': 9.724729241877256,\n",
       " 'FAMILY': 18.907942238267147,\n",
       " 'MEDICAL': 3.531137184115524,\n",
       " 'SOCIAL': 2.6624548736462095,\n",
       " 'SHOPPING': 2.2450361010830324,\n",
       " 'PHOTOGRAPHY': 2.944494584837545,\n",
       " 'SPORTS': 3.395758122743682,\n",
       " 'TRAVEL_AND_LOCAL': 2.33528880866426,\n",
       " 'TOOLS': 8.461191335740072,\n",
       " 'PERSONALIZATION': 3.3167870036101084,\n",
       " 'PRODUCTIVITY': 3.892148014440433,\n",
       " 'PARENTING': 0.6543321299638989,\n",
       " 'WEATHER': 0.8009927797833934,\n",
       " 'VIDEO_PLAYERS': 1.7937725631768955,\n",
       " 'NEWS_AND_MAGAZINES': 2.7978339350180503,\n",
       " 'MAPS_AND_NAVIGATION': 1.3989169675090252}"
      ]
     },
     "execution_count": 38,
     "metadata": {},
     "output_type": "execute_result"
    }
   ],
   "source": [
    "categories_google_play"
   ]
  },
  {
   "cell_type": "code",
   "execution_count": 39,
   "metadata": {},
   "outputs": [
    {
     "name": "stdout",
     "output_type": "stream",
     "text": [
      "ART_AND_DESIGN :  1986335.0877192982\n",
      "AUTO_AND_VEHICLES :  647317.8170731707\n",
      "BEAUTY :  513151.88679245283\n",
      "BOOKS_AND_REFERENCE :  8767811.894736841\n",
      "BUSINESS :  1712290.1474201474\n",
      "COMICS :  817657.2727272727\n",
      "COMMUNICATION :  38456119.167247385\n",
      "DATING :  854028.8303030303\n",
      "EDUCATION :  1833495.145631068\n",
      "ENTERTAINMENT :  11640705.88235294\n",
      "EVENTS :  253542.22222222222\n",
      "FINANCE :  1387692.475609756\n",
      "FOOD_AND_DRINK :  1924897.7363636363\n",
      "HEALTH_AND_FITNESS :  4188821.9853479853\n",
      "HOUSE_AND_HOME :  1331540.5616438356\n",
      "LIBRARIES_AND_DEMO :  638503.734939759\n",
      "LIFESTYLE :  1437816.2687861272\n",
      "GAME :  15588015.603248259\n",
      "FAMILY :  3695641.8198090694\n",
      "MEDICAL :  120550.61980830671\n",
      "SOCIAL :  23253652.127118643\n",
      "SHOPPING :  7036877.311557789\n",
      "PHOTOGRAPHY :  17840110.40229885\n",
      "SPORTS :  3638640.1428571427\n",
      "TRAVEL_AND_LOCAL :  13984077.710144928\n",
      "TOOLS :  10801391.298666667\n",
      "PERSONALIZATION :  5201482.6122448975\n",
      "PRODUCTIVITY :  16787331.344927534\n",
      "PARENTING :  542603.6206896552\n",
      "WEATHER :  5074486.197183099\n",
      "VIDEO_PLAYERS :  24727872.452830188\n",
      "NEWS_AND_MAGAZINES :  9549178.467741935\n",
      "MAPS_AND_NAVIGATION :  4056941.7741935486\n"
     ]
    }
   ],
   "source": [
    "for category in categories_google_play:\n",
    "    total = 0 \n",
    "    len_category = 0 \n",
    "    for app in google_play_final:\n",
    "        category_app = app[1]\n",
    "        if category_app == category: \n",
    "            n_installs = app[5]\n",
    "            n_installs = n_installs.replace('+', '')\n",
    "            n_installs = n_installs.replace(',', '')\n",
    "            total += float(n_installs)\n",
    "            len_category += 1\n",
    "    average_n_installs = total / len_category\n",
    "    print(category, \": \", average_n_installs)"
   ]
  },
  {
   "cell_type": "markdown",
   "metadata": {},
   "source": [
    "There are these categories sorted from categories with the greatest average  number of installs per app to categories with the smallest average number of installs per app:   \n",
    "  \n",
    "COMMUNICATION : 38,456,119.17  \n",
    "VIDEO_PLAYERS : 24,727,872.45  \n",
    "SOCIAL : 23,253,652.13  \n",
    "PHOTOGRAPHY : 17,840,110.4  \n",
    "PRODUCTIVITY : 16,787,331.34  \n",
    "GAME : 15,588,015.6  \n",
    "TRAVEL_AND_LOCAL : 13,984,077.71  \n",
    "ENTERTAINMENT : 11,640,705.88  \n",
    "TOOLS : 10,801,391.3  \n",
    "NEWS_AND_MAGAZINES : 9,549,178.47  \n",
    "BOOKS_AND_REFERENCE : 8,767,811.89  \n",
    "SHOPPING : 7,036,877.31  \n",
    "PERSONALIZATION : 5,201,482.61  \n",
    "WEATHER : 5,074,486.2  \n",
    "HEALTH_AND_FITNESS : 4,188,821.99  \n",
    "MAPS_AND_NAVIGATION : 4,056,941.77  \n",
    "SPORTS : 3,638,640.14  \n",
    "FAMILY : 3,695,641.82   \n",
    "LIFESTYLE : 1,437,816.27  \n",
    "FINANCE : 1,387,692.48   \n",
    "HOUSE_AND_HOME : 1,331,540.56  \n",
    "BUSINESS : 1,712,290.15  \n",
    "EDUCATION : 1,833,495.15  \n",
    "FOOD_AND_DRINK : 1,924,897.74  \n",
    "ART_AND_DESIGN : 1,986,335.09  \n",
    "COMICS : 817,657.27  \n",
    "DATING : 854,028.83  \n",
    "AUTO_AND_VEHICLES : 647,317.82  \n",
    "LIBRARIES_AND_DEMO : 638,503.73  \n",
    "PARENTING : 542,603.62  \n",
    "BEAUTY : 513,151.89  \n",
    "EVENTS : 253,542.22  \n",
    "MEDICAL : 120,550.62  "
   ]
  },
  {
   "cell_type": "markdown",
   "metadata": {},
   "source": [
    "As we can see category with the greatest average number of installs per app is COMMUNICATION. "
   ]
  },
  {
   "cell_type": "code",
   "execution_count": 40,
   "metadata": {},
   "outputs": [
    {
     "name": "stdout",
     "output_type": "stream",
     "text": [
      "WhatsApp Messenger : 1,000,000,000+\n",
      "Messenger for SMS : 10,000,000+\n",
      "My Tele2 : 5,000,000+\n",
      "imo beta free calls and text : 100,000,000+\n",
      "Contacts : 50,000,000+\n",
      "Call Free – Free Call : 5,000,000+\n",
      "Web Browser & Explorer : 5,000,000+\n",
      "Browser 4G : 10,000,000+\n",
      "MegaFon Dashboard : 10,000,000+\n",
      "ZenUI Dialer & Contacts : 10,000,000+\n",
      "Cricket Visual Voicemail : 10,000,000+\n",
      "TracFone My Account : 1,000,000+\n",
      "Xperia Link™ : 10,000,000+\n",
      "TouchPal Keyboard - Fun Emoji & Android Keyboard : 10,000,000+\n",
      "Skype Lite - Free Video Call & Chat : 5,000,000+\n",
      "My magenta : 1,000,000+\n",
      "Android Messages : 100,000,000+\n",
      "Google Duo - High Quality Video Calls : 500,000,000+\n",
      "Seznam.cz : 1,000,000+\n",
      "Antillean Gold Telegram (original version) : 100,000+\n",
      "AT&T Visual Voicemail : 10,000,000+\n",
      "GMX Mail : 10,000,000+\n",
      "Omlet Chat : 10,000,000+\n",
      "My Vodacom SA : 5,000,000+\n",
      "Microsoft Edge : 5,000,000+\n",
      "Messenger – Text and Video Chat for Free : 1,000,000,000+\n",
      "imo free video calls and chat : 500,000,000+\n",
      "Calls & Text by Mo+ : 5,000,000+\n",
      "free video calls and chat : 50,000,000+\n",
      "Skype - free IM & video calls : 1,000,000,000+\n",
      "Who : 100,000,000+\n",
      "GO SMS Pro - Messenger, Free Themes, Emoji : 100,000,000+\n",
      "Messaging+ SMS, MMS Free : 1,000,000+\n",
      "chomp SMS : 10,000,000+\n",
      "Glide - Video Chat Messenger : 10,000,000+\n",
      "Text SMS : 10,000,000+\n",
      "Talkray - Free Calls & Texts : 10,000,000+\n",
      "LINE: Free Calls & Messages : 500,000,000+\n",
      "GroupMe : 10,000,000+\n",
      "mysms SMS Text Messaging Sync : 1,000,000+\n",
      "2ndLine - Second Phone Number : 1,000,000+\n",
      "Google Chrome: Fast & Secure : 1,000,000,000+\n",
      "Firefox Browser fast & private : 100,000,000+\n",
      "Ninesky Browser : 1,000,000+\n",
      "Dolphin Browser - Fast, Private & Adblock🐬 : 50,000,000+\n",
      "UC Browser - Fast Download Private & Secure : 500,000,000+\n",
      "Ghostery Privacy Browser : 1,000,000+\n",
      "InBrowser - Incognito Browsing : 1,000,000+\n",
      "Lightning Web Browser : 500,000+\n",
      "Web Browser : 500,000+\n",
      "Contacts+ : 10,000,000+\n",
      "ExDialer - Dialer & Contacts : 10,000,000+\n",
      "PHONE for Google Voice & GTalk : 1,000,000+\n",
      "Safest Call Blocker : 1,000,000+\n",
      "Full Screen Caller ID : 5,000,000+\n",
      "Hiya - Caller ID & Block : 10,000,000+\n",
      "Mr. Number-Block calls & spam : 10,000,000+\n",
      "Should I Answer? : 1,000,000+\n",
      "RocketDial Dialer & Contacts : 1,000,000+\n",
      "CIA - Caller ID & Call Blocker : 5,000,000+\n",
      "Calls Blacklist - Call Blocker : 10,000,000+\n",
      "Call Control - Call Blocker : 5,000,000+\n",
      "True Contact - Real Caller ID : 1,000,000+\n",
      "Video Caller Id : 1,000,000+\n",
      "Sync.ME – Caller ID & Block : 5,000,000+\n",
      "Burner - Free Phone Number : 1,000,000+\n",
      "Caller ID + : 1,000,000+\n",
      "Gmail : 1,000,000,000+\n",
      "K-9 Mail : 5,000,000+\n",
      "myMail – Email for Hotmail, Gmail and Outlook Mail : 10,000,000+\n",
      "Email TypeApp - Mail App : 1,000,000+\n",
      "All Email Providers : 1,000,000+\n",
      "Newton Mail - Email App for Gmail, Outlook, IMAP : 1,000,000+\n",
      "GO Notifier : 10,000,000+\n",
      "Mail.Ru - Email App : 50,000,000+\n",
      "Mail1Click - Secure Mail : 10,000+\n",
      "Daum Mail - Next Mail : 5,000,000+\n",
      "mail.com mail : 1,000,000+\n",
      "SolMail - All-in-One email app : 500,000+\n",
      "Hangouts : 1,000,000,000+\n",
      "Vonage Mobile® Call Video Text : 1,000,000+\n",
      "JusTalk - Free Video Calls and Fun Video Chat : 5,000,000+\n",
      "Azar : 50,000,000+\n",
      "LokLok: Draw on a Lock Screen : 500,000+\n",
      "Discord - Chat for Gamers : 10,000,000+\n",
      "Messenger Lite: Free Calls & Messages : 100,000,000+\n",
      "AntennaPict β : 1,000,000+\n",
      "Talkatone: Free Texts, Calls & Phone Number : 10,000,000+\n",
      "Kik : 100,000,000+\n",
      "K-@ Mail - Email App : 100,000+\n",
      "KakaoTalk: Free Calls & Text : 100,000,000+\n",
      "K-9 Material (unofficial) : 5,000+\n",
      "M star Dialer : 100,000+\n",
      "Free WiFi Connect : 10,000,000+\n",
      "m:go BiH : 10,000+\n",
      "N-Com Wizard : 50,000+\n",
      "Opera Mini - fast web browser : 100,000,000+\n",
      "Opera Browser: Fast and Secure : 100,000,000+\n",
      "Opera Mini browser beta : 10,000,000+\n",
      "Psiphon Pro - The Internet Freedom VPN : 10,000,000+\n",
      "ICQ — Video Calls & Chat Messenger : 10,000,000+\n",
      "Telegram : 100,000,000+\n",
      "AT&T Messages for Tablet : 1,000,000+\n",
      "T-Mobile DIGITS : 100,000+\n",
      "Truecaller: Caller ID, SMS spam blocking & Dialer : 100,000,000+\n",
      "Portable Wi-Fi hotspot : 10,000,000+\n",
      "AT&T Call Protect : 5,000,000+\n",
      "U - Webinars, Meetings & Messenger : 500,000+\n",
      "UC Browser Mini -Tiny Fast Private & Secure : 100,000,000+\n",
      "/u/app : 10,000+\n",
      "[verify-U] VideoIdent : 10,000+\n",
      "Viber Messenger : 500,000,000+\n",
      "WeChat : 100,000,000+\n",
      "WhatsApp Business : 10,000,000+\n",
      "WhatsCall Free Global Phone Call App & Cheap Calls : 10,000,000+\n",
      "X Browser : 50,000+\n",
      "Yahoo Mail – Stay Organized : 100,000,000+\n",
      "Free Adblocker Browser - Adblock & Popup Blocker : 10,000,000+\n",
      "Adblock Browser for Android : 10,000,000+\n",
      "CM Browser - Ad Blocker , Fast Download , Privacy : 50,000,000+\n",
      "Adblock Plus for Samsung Internet - Browse safe. : 1,000,000+\n",
      "Ad Blocker Turbo - Adblocker Browser : 10,000+\n",
      "Brave Browser: Fast AdBlocker : 5,000,000+\n",
      "AG Contacts, Lite edition : 5,000+\n",
      "Oklahoma Ag Co-op Council : 10+\n",
      "Bee'ah Employee App : 100+\n",
      "tournaments and more.aj.2 : 100+\n",
      "Aj.Petra : 100+\n",
      "AK Phone : 5,000+\n",
      "PlacarTv Futebol Ao Vivo : 100,000+\n",
      "WiFi Access Point (hotspot) : 100,000+\n",
      "Access Point Names : 10,000+\n",
      "Puffin Web Browser : 10,000,000+\n",
      "ClanHQ : 10,000+\n",
      "Ear Agent: Super Hearing : 5,000,000+\n",
      "Google Voice : 10,000,000+\n",
      "Google Allo : 10,000,000+\n",
      "AU Call Blocker - Block Unwanted Calls Texts 2018 : 1,000+\n",
      "Baby Monitor AV : 100,000+\n",
      "AV Phone : 1,000+\n",
      "AW - free video calls and chat : 1,000,000+\n",
      "Katalogen.ax : 100+\n",
      "AZ Browser. Private & Download : 100,000+\n",
      "BA SALES : 1+\n",
      "BD Data Plan (3G & 4G) : 500,000+\n",
      "BD Internet Packages (Updated) : 50,000+\n",
      "BD Dialer : 10,000+\n",
      "BD Live Call : 5,000+\n",
      "Best Browser BD social networking : 10+\n",
      "Traffic signs BD : 500+\n",
      "BF Browser by Betfilter - Stop Gambling Today! : 10,000+\n",
      "My BF App : 50,000+\n",
      "BH Mail : 1,000+\n",
      "Zalo – Video Call : 50,000,000+\n",
      "BJ - Confidential : 10+\n",
      "BK Chat : 1,000+\n",
      "Of the wall Arapaho bk : 5+\n",
      "AC-BL : 50+\n",
      "BBM - Free Calls & Messages : 100,000,000+\n",
      "DMR BrandMeister Tool : 10,000+\n",
      "BBMoji - Your personalized BBM Stickers : 1,000,000+\n",
      "BN MALLORCA Radio : 1,000+\n",
      "BQ Partners : 1,000+\n",
      "BS-Mobile : 50+\n",
      "ATC Unico BS : 500+\n",
      "BT One Voice mobile access : 5,000+\n",
      "BT Messenger : 50,000+\n",
      "BT One Phone Mobile App : 10,000+\n",
      "SW-100.tch by Callstel : 1,000,000+\n",
      "BT MeetMe with Dolby Voice : 100,000+\n",
      "Bluetooth Auto Connect : 5,000,000+\n",
      "AudioBT: BT audio GPS/SMS/Text : 50,000+\n",
      "BV : 100+\n",
      "Feel Performer : 10,000+\n",
      "Tiny Call Confirm : 1,000,000+\n",
      "CB Radio Chat - for friends! : 1,000,000+\n",
      "CB On Mobile : 100,000+\n",
      "Virtual Walkie Talkie : 1,000,000+\n",
      "Channel 19 : 100,000+\n",
      "Cb browser : 50+\n",
      "CF Chat: Connecting Friends : 100+\n",
      "retteMi.ch : 5,000+\n",
      "Chrome Dev : 5,000,000+\n",
      "CJ Browser - Fast & Private : 100+\n",
      "CJ DVD Rentals : 100+\n",
      "CK Call NEW : 10+\n",
      "CM Transfer - Share any files with friends nearby : 5,000,000+\n",
      "mail.co.uk Mail : 5,000+\n",
      "ClanPlay: Community and Tools for Gamers : 1,000,000+\n",
      "CQ-Mobile : 1,000+\n",
      "CQ-Alert : 500+\n",
      "QRZ Assistant : 100,000+\n",
      "Pocket Prefix Plus : 10,000+\n",
      "Ham Radio Prefixes : 10,000+\n",
      "CS Customizer : 1,000+\n",
      "CS Browser | #1 & BEST BROWSER : 1,000+\n",
      "CS Browser Beta : 5,000+\n",
      "My Vodafone (GR) : 1,000,000+\n",
      "IZ2UUF Morse Koch CW : 50,000+\n",
      "C W Browser : 100+\n",
      "CW Bluetooth SPP : 100+\n",
      "CW BLE Peripheral Simulator : 500+\n",
      "Morse Code Reader : 100,000+\n",
      "Learn Morse Code - G0HYN Learn Morse : 5,000+\n",
      "Ring : 10,000+\n",
      "Hyundai CX Conference : 50+\n",
      "Cy Messenger : 100+\n",
      "Amadeus GR & CY : 100+\n",
      "Hlášenírozhlasu.cz : 10+\n",
      "SMS Sender - sluzba.cz : 1,000+\n",
      "WEB.DE Mail : 10,000,000+\n",
      "Your Freedom VPN Client : 5,000,000+\n",
      "CallApp: Caller ID, Blocker & Phone Call Recorder : 10,000,000+\n",
      "Rádio Sol Nascente DF : 500+\n",
      "DG Card : 100+\n",
      "Whoscall - Caller ID & Block : 10,000,000+\n",
      "DK Browser : 10+\n",
      "cluster.dk : 1,000+\n",
      "DK TEL Dialer : 50+\n",
      "DM for WhatsApp : 5,000+\n",
      "DM Talk New : 5,000+\n",
      "DM - The Offical Messaging App : 10+\n",
      "DM Tracker : 1,000+\n",
      "Call Blocker & Blacklist : 1,000+\n",
      "ReadyOp DT : 1,000+\n",
      "DU Browser—Browse fast & fun : 10,000,000+\n",
      "Caller ID & Call Block - DU Caller : 5,000,000+\n",
      "BlueDV AMBE : 1,000+\n",
      "DW Contacts & Phone & Dialer : 1,000,000+\n",
      "Deaf World DW : 10,000+\n",
      "Ham DX Cluster & Spots Finder : 5,000+\n",
      "Mircules DX Cluster Lite : 5,000+\n",
      "3G DZ Configuration : 50,000+\n",
      "chat dz : 100+\n",
      "love sms good morning : 5,000+\n",
      "Goodbox - Mega App : 100,000+\n",
      "Call Blocker - Blacklist, SMS Blocker : 1,000,000+\n",
      "[EF]ShoutBox : 100+\n",
      "Eg Call : 10,000+\n",
      "ei : 10+\n",
      "EJ messenger : 10+\n",
      "Ek IRA : 10+\n",
      "Orfox: Tor Browser for Android : 10,000,000+\n",
      "EO Mumbai : 10+\n",
      "EP RSS Reader : 100+\n",
      "Voxer Walkie Talkie Messenger : 10,000,000+\n",
      "ES-1 : 500+\n",
      "Hangouts Dialer - Call Phones : 10,000,000+\n",
      "EU Council : 1,000+\n",
      "Council Voting Calculator : 5,000+\n",
      "Have your say on Europe : 500+\n",
      "Programi podrške EU : 100+\n",
      "Inbox.eu : 10,000+\n",
      "Web Browser for Android : 1,000,000+\n",
      "Everbridge : 100,000+\n",
      "Best Auto Call Recorder Free : 500+\n",
      "EZ Wifi Notification : 10,000+\n",
      "Test Server SMS FA : 5+\n",
      "Lite for Facebook Messenger : 1,000,000+\n",
      "FC Browser - Focus Privacy Browser : 1,000+\n",
      "EHiN-FH conferenceapp : 100+\n",
      "Carpooling FH Hagenberg : 100+\n",
      "Wi-Fi Auto-connect : 1,000,000+\n",
      "Talkie - Wi-Fi Calling, Chats, File Sharing : 500,000+\n",
      "WeFi - Free Fast WiFi Connect & Find Wi-Fi Map : 1,000,000+\n",
      "Sat-Fi : 5,000+\n",
      "Portable Wi-Fi hotspot Free : 100,000+\n",
      "TownWiFi | Wi-Fi Everywhere : 500,000+\n",
      "Jazz Wi-Fi : 10,000+\n",
      "Sat-Fi Voice : 1,000+\n",
      "Free Wi-fi HotspoT : 50,000+\n",
      "FN Web Radio : 10+\n",
      "FNH Payment Info : 10+\n",
      "MARKET FO : 100+\n",
      "FO OP St-Nazaire : 100+\n",
      "FO SODEXO : 100+\n",
      "FO RCBT : 100+\n",
      "FO Interim : 100+\n",
      "FO PSA Sept-Fons : 100+\n",
      "FO AIRBUS TLSE : 1,000+\n",
      "FO STELIA Méaulte : 100+\n",
      "FO AIRBUS Nantes : 100+\n",
      "Firefox Focus: The privacy browser : 1,000,000+\n",
      "FP Connect : 100+\n",
      "FreedomPop Messaging Phone/SIM : 500,000+\n",
      "FP Live : 10+\n",
      "HipChat - beta version : 50,000+\n"
     ]
    }
   ],
   "source": [
    "for app in google_play_final:\n",
    "    if app[1] == \"COMMUNICATION\":\n",
    "        print(app[0], ':', app[5])"
   ]
  },
  {
   "cell_type": "markdown",
   "metadata": {},
   "source": [
    "### Why not communication app?"
   ]
  },
  {
   "cell_type": "markdown",
   "metadata": {},
   "source": [
    "Communcation apps are dominated by giants like WhatsApp, Messenger etc. \n",
    "It will be pretty difficult to create communication app that will beat these giants and become one of the most popular communication app.   \n",
    "  \n",
    "If we want to make profit from in-app adds that kind of app can also not be profitable because of little amount of them.  \n",
    "  \n",
    "In that category, the average number of installs are heavily skewed up by these few giants mentioned above. This means that communication apps seem more popular than they really are.   \n",
    "  \n",
    "If we removed all the communication apps that have over 100 million installs, the average would be reduced roughly ten times:"
   ]
  },
  {
   "cell_type": "code",
   "execution_count": 41,
   "metadata": {},
   "outputs": [
    {
     "data": {
      "text/plain": [
       "3603485.3884615386"
      ]
     },
     "execution_count": 41,
     "metadata": {},
     "output_type": "execute_result"
    }
   ],
   "source": [
    "under_100_m = []\n",
    "\n",
    "for app in google_play_final:\n",
    "    n_installs = app[5]\n",
    "    n_installs = n_installs.replace(',', '')\n",
    "    n_installs = n_installs.replace('+', '')\n",
    "    if (app[1] == 'COMMUNICATION') and (float(n_installs) < 100000000):\n",
    "        under_100_m.append(float(n_installs))\n",
    "        \n",
    "sum(under_100_m) / len(under_100_m)"
   ]
  },
  {
   "cell_type": "markdown",
   "metadata": {},
   "source": [
    "We see the same pattern for the video players category, which is the runner-up with 24,727,872 installs. The market is dominated by apps like Youtube, Google Play Movies & TV, or MX Player. The pattern is repeated for social apps (where we have giants like Facebook, Instagram, Google+, etc.), photography apps (Google Photos and other popular photo editors), or productivity apps (Microsoft Word, Dropbox, Google Calendar, Evernote, etc.)."
   ]
  },
  {
   "cell_type": "markdown",
   "metadata": {},
   "source": [
    "### Why Travel Together App"
   ]
  },
  {
   "cell_type": "markdown",
   "metadata": {},
   "source": [
    "It might be a good idea to create an app that connects two categories like I suggested above.  \n",
    "  \n",
    "Travel together app enables to connect practical purposes of the app with fun. Moreover, people often spend a lot of time planning their travels so it might be easier to make big profit from in-app adds.   \n",
    "  \n",
    "Traveling is connected with booking an accomodation, finding transport to the destionation, looking for great restaurants and attractions. For that reason many hotels, restaurants, transporters etc. might decide to collaborate with us in return for advertisement."
   ]
  },
  {
   "cell_type": "markdown",
   "metadata": {},
   "source": [
    "## Conclusions"
   ]
  },
  {
   "cell_type": "markdown",
   "metadata": {},
   "source": [
    "In this project, I analyzed data about the App Store and Google Play mobile apps with the goal of recommending an app profile that can be profitable for both markets.  \n",
    "  \n",
    "I found out that there are many categories that are dominated by few giant apps with a lot of installs, users so it might be really hard to break through.  \n",
    "  \n",
    "I came to the conclusion that the good idea might be to connect two popular categories, like for example social networking and navigation, tools.  \n",
    "  \n",
    "Social networking category is mainly created for fun and it is dominated by some giants apps. But we can create an app that will also have practical purposes like: planning a travel, navigate to the destination, arranging transport and accomodation, create travel group etc.  \n",
    "  \n",
    "So I suggest to create Travel Together App that also enables to callaborate with a lot of companies that offer accomodations, transports, attractions and food in return for advertisement."
   ]
  }
 ],
 "metadata": {
  "kernelspec": {
   "display_name": "base",
   "language": "python",
   "name": "python3"
  },
  "language_info": {
   "codemirror_mode": {
    "name": "ipython",
    "version": 3
   },
   "file_extension": ".py",
   "mimetype": "text/x-python",
   "name": "python",
   "nbconvert_exporter": "python",
   "pygments_lexer": "ipython3",
   "version": "3.11.5"
  }
 },
 "nbformat": 4,
 "nbformat_minor": 2
}
